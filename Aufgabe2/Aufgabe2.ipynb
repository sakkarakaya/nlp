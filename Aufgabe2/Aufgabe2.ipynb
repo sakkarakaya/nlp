{
 "cells": [
  {
   "cell_type": "markdown",
   "metadata": {},
   "source": [
    "# Ein Anfang für die zweite Aufgabe"
   ]
  },
  {
   "cell_type": "code",
   "execution_count": null,
   "metadata": {},
   "outputs": [],
   "source": [
    "from collections import Counter\n",
    "import glob\n",
    "import codecs\n",
    "\n",
    "\n",
    "virenzähler = Counter()\n",
    "\n",
    "filelist = glob.glob(\"infekt/*.txt\")\n",
    "for f in filelist:\n",
    "    datei = codecs.open(f,'r','utf8')\n",
    "    #Jetzt suchen wir alle Viren \n",
    "    \n",
    "    for zeile in datei:\n",
    "        if \"virus\" in zeile:\n",
    "            print(zeile)\n",
    "    \n",
    "    datei.close()\n",
    "\n",
    "                \n",
    "virenzähler.most_common()"
   ]
  },
  {
   "cell_type": "code",
   "execution_count": null,
   "metadata": {},
   "outputs": [],
   "source": [
    "\n",
    "import glob\n",
    "import codecs\n",
    "import re\n",
    "\n",
    "\n",
    "\n",
    "filelist = glob.glob(\"infekt/*.txt\")\n",
    "\n",
    "\n",
    "for f in filelist:\n",
    "    datei = codecs.open(f,'r','utf8')\n",
    "    #Jetzt suchen wir alle Viren \n",
    "    \n",
    "    for zeile in datei:\n",
    "        fund = re.search(r'\\b\\S*[Vv]irus|[Vv]iren)\\b',zeile)\n",
    "        if fund:\n",
    "            print(fund.group(0))\n",
    "    \n",
    "    datei.close()\n",
    "    \n",
    "    \n"
   ]
  },
  {
   "cell_type": "code",
   "execution_count": null,
   "metadata": {},
   "outputs": [],
   "source": [
    "import glob\n",
    "import codecs\n",
    "import re\n",
    "\n",
    "\n",
    "\n",
    "filelist = glob.glob(\"infekt/*.txt\")\n",
    "\n",
    "virus = []\n",
    "\n",
    "for f in filelist:\n",
    "    datei = codecs.open(f,'r','utf8')\n",
    "    #Jetzt suchen wir alle Viren \n",
    "    \n",
    "    for zeile in datei:\n",
    "        fund = re.search(r'\\b\\S*([Vv]irus|[Vv]iren)\\b',zeile)\n",
    "        if fund:\n",
    "            virus.append(fund.group(0))\n",
    "    \n",
    "    datei.close()\n",
    "    \n",
    "v = Counter(virus)\n",
    "v.most_common()\n",
    "    "
   ]
  },
  {
   "cell_type": "code",
   "execution_count": null,
   "metadata": {},
   "outputs": [],
   "source": [
    "import glob\n",
    "import codecs\n",
    "import re\n",
    "\n",
    "\n",
    "\n",
    "filelist = glob.glob(\"infekt/*.txt\")\n",
    "\n",
    "virus2 = []\n",
    "\n",
    "for f in filelist:\n",
    "    datei = codecs.open(f,'r','utf8')\n",
    "    #Jetzt suchen wir alle Viren \n",
    "    \n",
    "    for zeile in datei:\n",
    "        fund = re.findall(r'\\b\\S*([Vv]irus|[Vv]iren)\\b',datei.read())\n",
    "        for i in fund:\n",
    "            virus2.append(i[0]+i[1]+i[2]+i[3]+i[4])\n",
    "    \n",
    "    datei.close()\n",
    "    \n",
    "st = Counter(virus2)\n",
    "st.most_common()"
   ]
  },
  {
   "cell_type": "code",
   "execution_count": 1,
   "metadata": {},
   "outputs": [
    {
     "ename": "TypeError",
     "evalue": "expected string or bytes-like object",
     "output_type": "error",
     "traceback": [
      "\u001b[0;31m---------------------------------------------------------------------------\u001b[0m",
      "\u001b[0;31mTypeError\u001b[0m                                 Traceback (most recent call last)",
      "\u001b[0;32m<ipython-input-1-5ac6e81abc80>\u001b[0m in \u001b[0;36m<module>\u001b[0;34m\u001b[0m\n\u001b[1;32m     12\u001b[0m     \u001b[0mdatei\u001b[0m \u001b[0;34m=\u001b[0m \u001b[0mcodecs\u001b[0m\u001b[0;34m.\u001b[0m\u001b[0mopen\u001b[0m\u001b[0;34m(\u001b[0m\u001b[0mf\u001b[0m\u001b[0;34m,\u001b[0m\u001b[0;34m'r'\u001b[0m\u001b[0;34m,\u001b[0m\u001b[0;34m'utf8'\u001b[0m\u001b[0;34m)\u001b[0m\u001b[0;34m\u001b[0m\u001b[0;34m\u001b[0m\u001b[0m\n\u001b[1;32m     13\u001b[0m     \u001b[0;31m#Jetzt suchen wir alle Viren\u001b[0m\u001b[0;34m\u001b[0m\u001b[0;34m\u001b[0m\u001b[0;34m\u001b[0m\u001b[0m\n\u001b[0;32m---> 14\u001b[0;31m     \u001b[0mdatei\u001b[0m \u001b[0;34m=\u001b[0m  \u001b[0mre\u001b[0m\u001b[0;34m.\u001b[0m\u001b[0msub\u001b[0m\u001b[0;34m(\u001b[0m\u001b[0;34m'iren'\u001b[0m\u001b[0;34m,\u001b[0m\u001b[0;34m'irus'\u001b[0m\u001b[0;34m,\u001b[0m\u001b[0mdatei\u001b[0m\u001b[0;34m)\u001b[0m\u001b[0;34m\u001b[0m\u001b[0;34m\u001b[0m\u001b[0m\n\u001b[0m\u001b[1;32m     15\u001b[0m     \u001b[0;32mfor\u001b[0m \u001b[0mzeile\u001b[0m \u001b[0;32min\u001b[0m \u001b[0mdatei\u001b[0m\u001b[0;34m:\u001b[0m\u001b[0;34m\u001b[0m\u001b[0;34m\u001b[0m\u001b[0m\n\u001b[1;32m     16\u001b[0m         \u001b[0mfund\u001b[0m \u001b[0;34m=\u001b[0m \u001b[0mre\u001b[0m\u001b[0;34m.\u001b[0m\u001b[0mfindall\u001b[0m\u001b[0;34m(\u001b[0m\u001b[0;34mr'\\b\\S*([Vv]irus|[Vv]iren)\\b'\u001b[0m\u001b[0;34m,\u001b[0m\u001b[0mdatei\u001b[0m\u001b[0;34m.\u001b[0m\u001b[0mread\u001b[0m\u001b[0;34m(\u001b[0m\u001b[0;34m)\u001b[0m\u001b[0;34m)\u001b[0m\u001b[0;34m\u001b[0m\u001b[0;34m\u001b[0m\u001b[0m\n",
      "\u001b[0;32m/opt/anaconda3/lib/python3.7/re.py\u001b[0m in \u001b[0;36msub\u001b[0;34m(pattern, repl, string, count, flags)\u001b[0m\n\u001b[1;32m    190\u001b[0m     \u001b[0ma\u001b[0m \u001b[0mcallable\u001b[0m\u001b[0;34m,\u001b[0m \u001b[0mit\u001b[0m\u001b[0;31m'\u001b[0m\u001b[0ms\u001b[0m \u001b[0mpassed\u001b[0m \u001b[0mthe\u001b[0m \u001b[0mMatch\u001b[0m \u001b[0mobject\u001b[0m \u001b[0;32mand\u001b[0m \u001b[0mmust\u001b[0m \u001b[0;32mreturn\u001b[0m\u001b[0;34m\u001b[0m\u001b[0;34m\u001b[0m\u001b[0m\n\u001b[1;32m    191\u001b[0m     a replacement string to be used.\"\"\"\n\u001b[0;32m--> 192\u001b[0;31m     \u001b[0;32mreturn\u001b[0m \u001b[0m_compile\u001b[0m\u001b[0;34m(\u001b[0m\u001b[0mpattern\u001b[0m\u001b[0;34m,\u001b[0m \u001b[0mflags\u001b[0m\u001b[0;34m)\u001b[0m\u001b[0;34m.\u001b[0m\u001b[0msub\u001b[0m\u001b[0;34m(\u001b[0m\u001b[0mrepl\u001b[0m\u001b[0;34m,\u001b[0m \u001b[0mstring\u001b[0m\u001b[0;34m,\u001b[0m \u001b[0mcount\u001b[0m\u001b[0;34m)\u001b[0m\u001b[0;34m\u001b[0m\u001b[0;34m\u001b[0m\u001b[0m\n\u001b[0m\u001b[1;32m    193\u001b[0m \u001b[0;34m\u001b[0m\u001b[0m\n\u001b[1;32m    194\u001b[0m \u001b[0;32mdef\u001b[0m \u001b[0msubn\u001b[0m\u001b[0;34m(\u001b[0m\u001b[0mpattern\u001b[0m\u001b[0;34m,\u001b[0m \u001b[0mrepl\u001b[0m\u001b[0;34m,\u001b[0m \u001b[0mstring\u001b[0m\u001b[0;34m,\u001b[0m \u001b[0mcount\u001b[0m\u001b[0;34m=\u001b[0m\u001b[0;36m0\u001b[0m\u001b[0;34m,\u001b[0m \u001b[0mflags\u001b[0m\u001b[0;34m=\u001b[0m\u001b[0;36m0\u001b[0m\u001b[0;34m)\u001b[0m\u001b[0;34m:\u001b[0m\u001b[0;34m\u001b[0m\u001b[0;34m\u001b[0m\u001b[0m\n",
      "\u001b[0;31mTypeError\u001b[0m: expected string or bytes-like object"
     ]
    }
   ],
   "source": [
    "import glob\n",
    "import codecs\n",
    "import re\n",
    "\n",
    "\n",
    "\n",
    "filelist = glob.glob(\"infekt/*.txt\")\n",
    "\n",
    "virus2 = []\n",
    "\n",
    "for f in filelist:\n",
    "    datei = codecs.open(f,'r','utf8')\n",
    "    #Jetzt suchen wir alle Viren \n",
    "    datei =  re.sub('iren','irus',datei)\n",
    "    for zeile in datei:\n",
    "        fund = re.findall(r'\\b\\S*([Vv]irus|[Vv]iren)\\b',datei.read())\n",
    "        for i in fund:\n",
    "            virus2.append(i[0]+i[1]+i[2]+i[3]+i[4])\n",
    "    \n",
    "    datei.close()\n",
    "    \n",
    "st = Counter(virus2)\n",
    "st.most_common()\n",
    "\n",
    "\n"
   ]
  },
  {
   "cell_type": "code",
   "execution_count": null,
   "metadata": {},
   "outputs": [],
   "source": []
  }
 ],
 "metadata": {
  "kernelspec": {
   "display_name": "Python 3",
   "language": "python",
   "name": "python3"
  },
  "language_info": {
   "codemirror_mode": {
    "name": "ipython",
    "version": 3
   },
   "file_extension": ".py",
   "mimetype": "text/x-python",
   "name": "python",
   "nbconvert_exporter": "python",
   "pygments_lexer": "ipython3",
   "version": "3.7.4"
  }
 },
 "nbformat": 4,
 "nbformat_minor": 2
}
