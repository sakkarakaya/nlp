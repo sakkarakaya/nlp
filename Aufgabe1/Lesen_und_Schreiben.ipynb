{
 "cells": [
  {
   "cell_type": "markdown",
   "metadata": {},
   "source": [
    "# Lesen und Schreiben von Texten"
   ]
  },
  {
   "cell_type": "markdown",
   "metadata": {},
   "source": [
    "Mit der Funktion _open_ kann eine Datei zum Lesen und schreiben geöffnet werden."
   ]
  },
  {
   "cell_type": "code",
   "execution_count": 2,
   "metadata": {},
   "outputs": [],
   "source": [
    "datei = open('Texte/Stress.txt')"
   ]
  },
  {
   "cell_type": "markdown",
   "metadata": {},
   "source": [
    "Mit der Methode _read_ kann der Text aus der Datei gelesen und in eine Variable gespeichert werden. Anschließend können wir die Datei wieder schließen."
   ]
  },
  {
   "cell_type": "code",
   "execution_count": 3,
   "metadata": {},
   "outputs": [],
   "source": [
    "text = datei.read()\n",
    "datei.close()"
   ]
  },
  {
   "cell_type": "code",
   "execution_count": 4,
   "metadata": {},
   "outputs": [
    {
     "name": "stdout",
     "output_type": "stream",
     "text": [
      "Macht Stress die Haare grau?\n",
      "\n",
      "Wenn die Tochter knutscht oder der Sohnemann nach Haschisch riecht, kriegen Eltern graue Haare. Behaupten sie zumindest. Aber liegt das wirklich an zu viel Stress und Sorgen, oder sind ganz andere Faktoren verantwortlich? \n",
      "\n",
      "Haare werden grau, wenn sich sogenannte Melanozyten zurückbilden. Diese Zellen produzieren das Pigment Melanin, das für die Färbung des Haares verantwortlich ist. Kann das wirklich durch Ärger oder Stress geschehen? \"Wissenschaftlich kann man einen solchen Zusammenhang nicht nachweisen\", sagt Danuta Sobczak, Fachärztin für Dermatologie in Freiburg.\n",
      "Graukopf: Zu viel Sonne? Stress? Eine Niete beim Gen-Lotto?\n",
      "\n",
      "Im Laufe eines Menschenlebens produzieren die Melanozyten weniger Melanin, dadurch können sich zunehmend graue Haare bilden. Ab welchem Alter und in welchem Umfang jemand graue Haare bekommt, ist hauptsächlich genetisch vorgegeben. Gute Gene hat anscheinend Altkanzler Gerhard Schröder immerhin steht inzwischen per Gerichtsbeschluss fest, dass seine Haarfarbe natürlich und nicht gefärbt ist.\n",
      "\n",
      "Wie bei anderen Alterungsprozessen des Körpers wäre es denkbar, dass man durch einen gesunden Lebensstil auch das Ergrauen der Haare herauszögern könnte. Die Faltenbildung der Haut ist beispielsweise ebenfalls genetisch bedingt, kann aber durch Rauchen, Sonne oder eine ungesunde Lebensweise beschleunigt werden. Bisher gibt es jedoch keine Belege dafür, dass es sich mit grauen Haaren ähnlich verhält.\n",
      "\n",
      "Das Märchen vom Ergrauen über Nacht\n",
      "\n",
      "Gesundheitliche Gründe wie Vitamin- oder Eisenmangel dagegen können sehr wohl der Grund für frühzeitiges Ergrauen sein. Eine rechtzeitige Behandlung kann hier aber die Farbpigmente erhalten oder zumindest den Prozess verlangsamen.\n",
      "\n",
      "Immer wieder hört man von diesen seltsamen Fällen, dass Menschen durch ein grauenvolles Erlebnis über Nacht ergraut sein sollen. Das liegt jedoch nicht daran, dass sich die Haare plötzlich entfärben, sondern an einem extremen Ausfall pigmentierter Haare. \"Diese Fälle sind extrem selten, und auch hier konnte der Zusammenhang zwischen dem Schock und dem Ausfall der Haare nicht nachgewiesen werden\", sagt Sobczak.\n",
      "\n",
      "Vielleicht führen Sorgen einfach zu einem generellen Gefühl, schneller zu altern dadurch bringt man den Stress eben auch mit grauen Haaren in Verbindung. Also, keine Schuldgefühle einreden lassen. Weiterknutschen!\n",
      "\n",
      "Quelle: https://www.spiegel.de/lebenundlernen/schule/1000-fragen-macht-stress-die-haare-grau-a-452427.html\n"
     ]
    }
   ],
   "source": [
    "print(text)"
   ]
  },
  {
   "cell_type": "markdown",
   "metadata": {},
   "source": [
    "Wir können den Text auch Zeilenweise aus der Datei lesen:"
   ]
  },
  {
   "cell_type": "code",
   "execution_count": null,
   "metadata": {},
   "outputs": [],
   "source": [
    "datei = open('Grimm.txt')\n",
    "zeilennummer = 0\n",
    "for zeile in datei:\n",
    "    print(zeilennummer,zeile,sep='\\t')\n",
    "    zeilennummer += 1\n",
    "datei.close()"
   ]
  },
  {
   "cell_type": "markdown",
   "metadata": {},
   "source": [
    "## Textkodierungen"
   ]
  },
  {
   "cell_type": "markdown",
   "metadata": {},
   "source": [
    "Oft gibt es Probleme, wenn Sie einen text einfach mit der Methode _open_ öffnen und lesen wollen:"
   ]
  },
  {
   "cell_type": "code",
   "execution_count": null,
   "metadata": {},
   "outputs": [],
   "source": [
    "datei = open('Grimm.txt')\n",
    "text = datei.read()\n",
    "datei.close()\n",
    "print(text[:500])"
   ]
  },
  {
   "cell_type": "markdown",
   "metadata": {},
   "source": [
    "Es ist relativ leicht zu sehen, dass der Text als UTF8 gespeichert wurde aber beim Lesen eine falsche Textkodierung angenommen wurde.\n",
    "\n",
    "Wir brauchen das Modul _codecs_ um die Kontrolle selber zu übernehmen und Python zu sagen, dass die Datei als UTF8 dekodiert werden soll. Wir legen jetzt ausserdem fest, dass die Datei nur zum lesen ('r') geöffnet werden soll."
   ]
  },
  {
   "cell_type": "code",
   "execution_count": 6,
   "metadata": {},
   "outputs": [
    {
     "ename": "UnicodeDecodeError",
     "evalue": "'utf-8' codec can't decode byte 0xfc in position 169: invalid start byte",
     "output_type": "error",
     "traceback": [
      "\u001b[0;31m---------------------------------------------------------------------------\u001b[0m",
      "\u001b[0;31mUnicodeDecodeError\u001b[0m                        Traceback (most recent call last)",
      "\u001b[0;32m<ipython-input-6-821f1de4389e>\u001b[0m in \u001b[0;36m<module>\u001b[0;34m\u001b[0m\n\u001b[1;32m      2\u001b[0m \u001b[0;34m\u001b[0m\u001b[0m\n\u001b[1;32m      3\u001b[0m \u001b[0mdatei\u001b[0m \u001b[0;34m=\u001b[0m \u001b[0mcodecs\u001b[0m\u001b[0;34m.\u001b[0m\u001b[0mopen\u001b[0m\u001b[0;34m(\u001b[0m\u001b[0;34m'Texte/Bleistift.txt'\u001b[0m\u001b[0;34m,\u001b[0m\u001b[0;34m'r'\u001b[0m\u001b[0;34m,\u001b[0m\u001b[0;34m'utf8'\u001b[0m\u001b[0;34m)\u001b[0m\u001b[0;34m\u001b[0m\u001b[0;34m\u001b[0m\u001b[0m\n\u001b[0;32m----> 4\u001b[0;31m \u001b[0mtext\u001b[0m \u001b[0;34m=\u001b[0m \u001b[0mdatei\u001b[0m\u001b[0;34m.\u001b[0m\u001b[0mread\u001b[0m\u001b[0;34m(\u001b[0m\u001b[0;34m)\u001b[0m\u001b[0;34m\u001b[0m\u001b[0;34m\u001b[0m\u001b[0m\n\u001b[0m\u001b[1;32m      5\u001b[0m \u001b[0mdatei\u001b[0m\u001b[0;34m.\u001b[0m\u001b[0mclose\u001b[0m\u001b[0;34m(\u001b[0m\u001b[0;34m)\u001b[0m\u001b[0;34m\u001b[0m\u001b[0;34m\u001b[0m\u001b[0m\n\u001b[1;32m      6\u001b[0m \u001b[0mprint\u001b[0m\u001b[0;34m(\u001b[0m\u001b[0mtext\u001b[0m\u001b[0;34m[\u001b[0m\u001b[0;34m:\u001b[0m\u001b[0;36m500\u001b[0m\u001b[0;34m]\u001b[0m\u001b[0;34m)\u001b[0m\u001b[0;34m\u001b[0m\u001b[0;34m\u001b[0m\u001b[0m\n",
      "\u001b[0;32m/opt/anaconda3/lib/python3.7/codecs.py\u001b[0m in \u001b[0;36mread\u001b[0;34m(self, size)\u001b[0m\n\u001b[1;32m    699\u001b[0m     \u001b[0;32mdef\u001b[0m \u001b[0mread\u001b[0m\u001b[0;34m(\u001b[0m\u001b[0mself\u001b[0m\u001b[0;34m,\u001b[0m \u001b[0msize\u001b[0m\u001b[0;34m=\u001b[0m\u001b[0;34m-\u001b[0m\u001b[0;36m1\u001b[0m\u001b[0;34m)\u001b[0m\u001b[0;34m:\u001b[0m\u001b[0;34m\u001b[0m\u001b[0;34m\u001b[0m\u001b[0m\n\u001b[1;32m    700\u001b[0m \u001b[0;34m\u001b[0m\u001b[0m\n\u001b[0;32m--> 701\u001b[0;31m         \u001b[0;32mreturn\u001b[0m \u001b[0mself\u001b[0m\u001b[0;34m.\u001b[0m\u001b[0mreader\u001b[0m\u001b[0;34m.\u001b[0m\u001b[0mread\u001b[0m\u001b[0;34m(\u001b[0m\u001b[0msize\u001b[0m\u001b[0;34m)\u001b[0m\u001b[0;34m\u001b[0m\u001b[0;34m\u001b[0m\u001b[0m\n\u001b[0m\u001b[1;32m    702\u001b[0m \u001b[0;34m\u001b[0m\u001b[0m\n\u001b[1;32m    703\u001b[0m     \u001b[0;32mdef\u001b[0m \u001b[0mreadline\u001b[0m\u001b[0;34m(\u001b[0m\u001b[0mself\u001b[0m\u001b[0;34m,\u001b[0m \u001b[0msize\u001b[0m\u001b[0;34m=\u001b[0m\u001b[0;32mNone\u001b[0m\u001b[0;34m)\u001b[0m\u001b[0;34m:\u001b[0m\u001b[0;34m\u001b[0m\u001b[0;34m\u001b[0m\u001b[0m\n",
      "\u001b[0;32m/opt/anaconda3/lib/python3.7/codecs.py\u001b[0m in \u001b[0;36mread\u001b[0;34m(self, size, chars, firstline)\u001b[0m\n\u001b[1;32m    502\u001b[0m                 \u001b[0;32mbreak\u001b[0m\u001b[0;34m\u001b[0m\u001b[0;34m\u001b[0m\u001b[0m\n\u001b[1;32m    503\u001b[0m             \u001b[0;32mtry\u001b[0m\u001b[0;34m:\u001b[0m\u001b[0;34m\u001b[0m\u001b[0;34m\u001b[0m\u001b[0m\n\u001b[0;32m--> 504\u001b[0;31m                 \u001b[0mnewchars\u001b[0m\u001b[0;34m,\u001b[0m \u001b[0mdecodedbytes\u001b[0m \u001b[0;34m=\u001b[0m \u001b[0mself\u001b[0m\u001b[0;34m.\u001b[0m\u001b[0mdecode\u001b[0m\u001b[0;34m(\u001b[0m\u001b[0mdata\u001b[0m\u001b[0;34m,\u001b[0m \u001b[0mself\u001b[0m\u001b[0;34m.\u001b[0m\u001b[0merrors\u001b[0m\u001b[0;34m)\u001b[0m\u001b[0;34m\u001b[0m\u001b[0;34m\u001b[0m\u001b[0m\n\u001b[0m\u001b[1;32m    505\u001b[0m             \u001b[0;32mexcept\u001b[0m \u001b[0mUnicodeDecodeError\u001b[0m \u001b[0;32mas\u001b[0m \u001b[0mexc\u001b[0m\u001b[0;34m:\u001b[0m\u001b[0;34m\u001b[0m\u001b[0;34m\u001b[0m\u001b[0m\n\u001b[1;32m    506\u001b[0m                 \u001b[0;32mif\u001b[0m \u001b[0mfirstline\u001b[0m\u001b[0;34m:\u001b[0m\u001b[0;34m\u001b[0m\u001b[0;34m\u001b[0m\u001b[0m\n",
      "\u001b[0;31mUnicodeDecodeError\u001b[0m: 'utf-8' codec can't decode byte 0xfc in position 169: invalid start byte"
     ]
    }
   ],
   "source": [
    "import codecs\n",
    "\n",
    "datei = codecs.open('Texte/Bleistift.txt','r','utf8')\n",
    "text = datei.read()\n",
    "datei.close()\n",
    "print(text[:500])"
   ]
  },
  {
   "cell_type": "markdown",
   "metadata": {},
   "source": [
    "Die Bibliothek kennt nicht alle aber doch ziemlich viele Codepages. Eine übersicht finden sie hier: https://docs.python.org/3/library/codecs.html"
   ]
  },
  {
   "cell_type": "markdown",
   "metadata": {},
   "source": [
    "## Texte Schreiben"
   ]
  },
  {
   "cell_type": "markdown",
   "metadata": {},
   "source": [
    "Zum Schreiben öffnen wir eine Datei wieder mit der Bibliothek _codecs_"
   ]
  },
  {
   "cell_type": "code",
   "execution_count": null,
   "metadata": {},
   "outputs": [],
   "source": [
    "datei = codecs.open('Grimm-1252.txt','w','cp1252')\n",
    "datei.write(text)\n",
    "datei.close()"
   ]
  },
  {
   "cell_type": "markdown",
   "metadata": {},
   "source": [
    "Eine weitere praktische Methode zum Schreiben ist es die Benutzung _print_ mit einem zusätzlichen Parameter für die Datei:"
   ]
  },
  {
   "cell_type": "code",
   "execution_count": null,
   "metadata": {},
   "outputs": [],
   "source": [
    "datei_in = codecs.open('Grimm.txt','r','cp1252')\n",
    "datei_out = codecs.open('Grimm-Kuddelmuddel.txt','w','utf8')\n",
    "zeilennummer = 0\n",
    "for zeile in datei_in:\n",
    "    print(zeilennummer,zeile,sep='\\t',file=datei_out)\n",
    "    zeilennummer += 1\n",
    "    if zeilennummer >= 10:\n",
    "        break\n",
    "datei_in.close()\n",
    "datei_out.close()"
   ]
  },
  {
   "cell_type": "markdown",
   "metadata": {},
   "source": [
    " Vorsicht! Wir haben jetzt einen schlimmen Fehler gemacht. Die Datei Grimm-Kuddelmuddel.txt ist fast irreparabel kaput! Wenn wir jetzt noch eine kleine händische Korrektur machen würden ist die Datei hoffnungslos verloren!"
   ]
  },
  {
   "cell_type": "code",
   "execution_count": 7,
   "metadata": {},
   "outputs": [],
   "source": [
    "import codecs"
   ]
  },
  {
   "cell_type": "code",
   "execution_count": 13,
   "metadata": {},
   "outputs": [
    {
     "name": "stdout",
     "output_type": "stream",
     "text": [
      "Wie kommt die Mine in den Bleistift?\r\n",
      "\r\n",
      "Jeder hat ihn schon mal angespitzt, fallen gelassen und ihm sein schwarzes Herz gebrochen: den Bleistift. Doch seit wann gibt es überhaupt den Bleier? Ist da wirklich Blei drin - und wie kommt eigentlich die grau-schwarze Mine in die hölzerne Hülle?\r\n",
      "\r\n",
      "\r\n",
      "Der heutige Bleistift ist ein Etikettenschwindel: Schon seit Jahrhunderten besteht seine Mine nicht mehr aus Blei, sondern aus einer Graphitmischung. Das ist dunkler, einfacher herzustellen, gesünder und g\n"
     ]
    }
   ],
   "source": [
    "datei = codecs.open('Texte/Bleistift.txt','r','iso8859-1')\n",
    "text = datei.read()\n",
    "datei.close()\n",
    "print(text[:500])"
   ]
  },
  {
   "cell_type": "code",
   "execution_count": 15,
   "metadata": {},
   "outputs": [
    {
     "name": "stdout",
     "output_type": "stream",
     "text": [
      "Befreit warmes Wasser besser von Keimen?\r\n",
      "\r\n",
      "Wer Triefnase, Husten und Kopfschmerzen entgehen will, sollte sich konsequent die Hände waschen. Warmes Wasser und Seife, empfehlen Experten. Aber ist warmes Wasser tatsächlich besser als kaltes? \r\n",
      "\r\n",
      "\r\n",
      "Der neurotische Physikprofessor Boris Yellnikoff singt zweimal laut \"Happy Birthday\", wenn er sich die Hände wäscht. Das vernichtet alle Keime, meint er. Im Prinzip hat der Kauz aus Woody Allens Film \"Whatever Works\" Recht: Denn zweimal \"Happy Birthday\" \n"
     ]
    }
   ],
   "source": [
    "datei = codecs.open('Texte/Händewaschen.txt','r','cp850')\n",
    "text = datei.read()\n",
    "datei.close()\n",
    "print(text[:500])"
   ]
  },
  {
   "cell_type": "code",
   "execution_count": 23,
   "metadata": {},
   "outputs": [
    {
     "name": "stdout",
     "output_type": "stream",
     "text": [
      "Woher kennt eine Körperzelle ihre Funktion?\r\n",
      "\r\n",
      "Haut, Knochen, Gewebe, Organe: Unser Körper besteht aus Milliarden Zellen. Sie bekämpfen Viren, bewegen unsere Muskeln und lassen uns wachsen. Doch woher weiß eine Zelle, dass sie für den Haarwuchs zuständig ist und nicht für den Herzschlag? \r\n",
      "\r\n",
      "\r\n",
      "\r\n",
      "Der menschliche Körper besteht aus Milliarden von Zellen, alle tragen in ihrem Zellkern denselben Bauplan des gesamten Körpers. Trotzdem sind sie nicht alle gleich: Es gibt Herzzellen, Hautzellen, Nervenzellen und viele andere Spezialisten, die teilweise sehr unterschiedliche Aufgaben erfüllen müssen: Eine Herzzelle muss sich beispielsweise rhythmisch zusammenziehen können, ganz anders die Zelle einer Haarwurzel: Sie ist für die Bildung des Haars verantwortlich. Doch woher weiß eine Haarwurzelzelle, dass sie keine Herzzelle ist - und umgekehrt?\r\n",
      "\r\n",
      "Jede Zelle eines Körpers besitze zwar die gleiche DNA, auf der die Erbinformationen gespeichert sind, sagt Michael Kessel vom Max-Planck-Institut für biophysikalische Chemie in Göttingen. \"Auf ihr sitzen aber auch Schaltermoleküle, die bestimmte Informationen an- oder abschalten.\" Bei einer Herzzelle seien dadurch beispielsweise Gene für die Herzfunktionen aktiviert, andere Programme dagegen abgeschaltet, erklärt der Entwicklungsbiologe.\r\n",
      "\r\n",
      "Es ist im Prinzip wie bei einem Computer: Auf seiner Festplatte sind ebenfalls viele unterschiedliche Programme gespeichert, doch damit sie arbeiten, muss man sie starten. Die Grundfunktionen, die alle Pr\n"
     ]
    }
   ],
   "source": [
    "datei = codecs.open('Texte/Körperzelle.txt','r','cp852')\n",
    "text = datei.read()\n",
    "datei.close()\n",
    "print(text[:1500])"
   ]
  },
  {
   "cell_type": "code",
   "execution_count": 25,
   "metadata": {},
   "outputs": [
    {
     "name": "stdout",
     "output_type": "stream",
     "text": [
      "Hilft Nachtmilch wirklich beim Schlafen?\r\n",
      "\r\n",
      "3 Uhr morgens und noch immer kein Auge zugetan: Manche schwören auf Baldrian, Ruhe oder Alkoholverzicht, andere vertrauen auf sogenannte Nachtmilch, die bei Kühen im Dunkeln gemolken wurde. Nur was hilft wirklich bei Schlafstörungen? \r\n",
      "\r\n",
      "\r\n",
      "\r\n",
      "Man fühlt sich müde, muss dauernd gähnen - trotzdem ist an Schlaf nicht zu denken. Lauwarme Fußbäder oder Kamillentee mit Baldrian helfen meist nicht weiter. Schnelle Hilfe versprechen Hersteller sogenannter Nachtm\n"
     ]
    }
   ],
   "source": [
    "datei = codecs.open('Texte/Nachtmilch.txt','r','iso 8859-1')\n",
    "text = datei.read()\n",
    "datei.close()\n",
    "print(text[:500])"
   ]
  },
  {
   "cell_type": "code",
   "execution_count": 27,
   "metadata": {},
   "outputs": [
    {
     "name": "stdout",
     "output_type": "stream",
     "text": [
      "Wo kommt das Seitenstechen her?\r\n",
      "\r\n",
      "Wie ärgerlich: Kurz vor der sportlichen Höchstleistung rauscht plötzlich ein Schmerz durch den Oberkörper das Seitenstechen. Doch wie entstehen die Schmerzen und wie kann man sie bekämpfen? \r\n",
      "\r\n",
      "\r\n",
      "\r\n",
      "Fast ist es geschafft: Die letzte Stadionrunde im Angriff, der Läufer fliegt dem Ziel entgegen. Der Puls dröhnt, der Atem rast und die Bestzeit lockt. Doch dann zuckt mit einem Mal der Schmerz in die Seite. Unterhalb der Rippen bohrt er sich tief in den Körper - das \n"
     ]
    }
   ],
   "source": [
    "datei = codecs.open('Texte/Seitenstechen.txt','r','iso 8859-1')\n",
    "text = datei.read()\n",
    "datei.close()\n",
    "print(text[:500])"
   ]
  },
  {
   "cell_type": "code",
   "execution_count": 28,
   "metadata": {},
   "outputs": [
    {
     "name": "stdout",
     "output_type": "stream",
     "text": [
      "Warum weinen wir?\r\n",
      "\r\n",
      "Wut, Stress, Angst, Trauer oder Staubkörner: Tränen fließen oft und aus unterschiedlichen Gründen. Wer weint, kann so Schmutz aus dem Auge schwemmen - aber hilft es auch, Stress abzubauen? \r\n",
      "\r\n",
      "\r\n",
      "\r\n",
      "Männer weinen zwar heimlich, wie Herbert Grönemeyer singt, aber sie weinen. Wenn auch deutlich seltener als Frauen: Bei ihnen rollen die Tränen bis zu 17 Mal im Jahr, bei Frauen bis zu 64 Mal, haben Augenärzte der Deutschen Ophthalmologischen Gesellschaft ermittelt. Meistens sind e\n"
     ]
    }
   ],
   "source": [
    "datei = codecs.open('Texte/Spechte.txt','r','iso 8859-1')\n",
    "text = datei.read()\n",
    "datei.close()\n",
    "print(text[:500])"
   ]
  },
  {
   "cell_type": "code",
   "execution_count": 30,
   "metadata": {},
   "outputs": [
    {
     "name": "stdout",
     "output_type": "stream",
     "text": [
      "Wie sterben Sprachen?\r\n",
      "\r\n",
      "Sprache kann verbinden, trennen - und der Tod einer Sprache kann sogar traumatisieren. Derzeit gibt es etwa 6000 verschiedene Sprachen, ein Drittel davon ist bedroht. Aber warum sterben Sprachen aus? \r\n",
      "\r\n",
      "\r\n",
      "\r\n",
      "Glaubt man der Bibel, haben wir Gott unser Sprachenwirrwarr zu verdanken. Er soll einst die gemeinsame Sprache verwirrt und über die ganze Erde verstreut haben, nachdem die Menschen versuchten, den Turm Babel zu errichten.\r\n",
      "\r\n",
      "Fest steht, dass heute noch rund 6000 verschiedene Kommunikations-Codes auf der Erde existieren. Doch über 2200 Sprachen sind bereits im Weltatlas für bedrohte Sprachen der Unesco erfasst. 576 davon gelten sogar als akut gefährdet. Aber wieso sterben Sprachen überhaupt aus?\r\n",
      "\r\n",
      "Zum einen, weil diejenigen, die sie sprechen, verschwinden. \"Bei kleineren Sprachgemeinschaften können beispielsweise Katastrophen oder Völkermord dazu führen, dass alle Sprecher auf einmal sterben\", sagt René Schiering, Vorstandsmitglied der Gesellschaft für Bedrohte Sprachen. Weitaus häufiger sei es jedoch so, dass Sprecher ihre Sprache zugunsten einer prestigeträchtigeren Mehrheits- oder Verkehrssprache aufgäben. \"Dies ist oft die direkte Folge von Kolonisation und Bildung von Nationalstaaten\", sagt er.\r\n",
      "\r\n",
      "Wenn Kinder nicht mehr sprechen wie die Eltern\r\n",
      "\r\n",
      "\"Zum anderen ist eine Sprache bedroht, wenn sie nicht mehr an zukünftige Generationen weitergegeben wird. Der Sprachtod tritt dann ein, wenn Kinder die betroffene Sprache nicht mehr sprechen. Oft ve\n"
     ]
    }
   ],
   "source": [
    "datei = codecs.open('Texte/Sprachen.txt','r','iso 8859-1')\n",
    "text = datei.read()\n",
    "datei.close()\n",
    "print(text[:1500])"
   ]
  },
  {
   "cell_type": "code",
   "execution_count": 32,
   "metadata": {},
   "outputs": [
    {
     "name": "stdout",
     "output_type": "stream",
     "text": [
      "Befreit warmes Wasser besser von Keimen?\r\n",
      "\r\n",
      "Wer Triefnase, Husten und Kopfschmerzen entgehen will, sollte sich konsequent die Hände waschen. Warmes Wasser und Seife, empfehlen Experten. Aber ist warmes Wasser tatsächlich besser als kaltes? \r\n",
      "\r\n",
      "\r\n",
      "Der neurotische Physikprofessor Boris Yellnikoff singt zweimal laut \"Happy Birthday\", wenn er sich die Hände wäscht. Das vernichtet alle Keime, meint er. Im Prinzip hat der Kauz aus Woody Allens Film \"Whatever Works\" Recht: Denn zweimal \"Happy Birthday\" \n"
     ]
    }
   ],
   "source": [
    "datei = codecs.open('Texte/Händewaschen.txt','r','cp850')\n",
    "text = datei.read()\n",
    "datei.close()\n",
    "print(text[:500])"
   ]
  },
  {
   "cell_type": "code",
   "execution_count": null,
   "metadata": {},
   "outputs": [],
   "source": []
  }
 ],
 "metadata": {
  "kernelspec": {
   "display_name": "Python 3",
   "language": "python",
   "name": "python3"
  },
  "language_info": {
   "codemirror_mode": {
    "name": "ipython",
    "version": 3
   },
   "file_extension": ".py",
   "mimetype": "text/x-python",
   "name": "python",
   "nbconvert_exporter": "python",
   "pygments_lexer": "ipython3",
   "version": "3.7.4"
  }
 },
 "nbformat": 4,
 "nbformat_minor": 2
}
