{
 "cells": [
  {
   "cell_type": "markdown",
   "metadata": {},
   "source": [
    "## Texte Entschlüsseln"
   ]
  },
  {
   "cell_type": "code",
   "execution_count": 2,
   "metadata": {},
   "outputs": [],
   "source": [
    "import codecs"
   ]
  },
  {
   "cell_type": "code",
   "execution_count": 10,
   "metadata": {
    "scrolled": true
   },
   "outputs": [
    {
     "name": "stdout",
     "output_type": "stream",
     "text": [
      "Wie kommt die Mine in den Bleistift?\r\n",
      "\r\n",
      "Jeder hat ihn schon mal angespitzt, fallen gelassen und ihm sein schwarzes Herz gebrochen: den Bleistift. Doch seit wann gibt es Řberhaupt den Bleier? Ist da wirklich Blei drin - und wie kommt eigentlich die grau-schwarze Mine in die h÷lzerne HŘlle?\r\n",
      "\r\n",
      "\r\n",
      "Der heutige Bleistift ist ein Etikettenschwindel: Schon seit Jahrhunderten besteht seine Mine nicht mehr aus Blei, sondern aus einer Graphitmischung. Das ist dunkler, einfacher herzustellen, gesŘnder und gŘnstiger. Graphit verdrńngte bereits im 16. Jahrhundert das Blei, genauer gesagt, das bleihaltige Erz Galenit.\r\n",
      "\r\n",
      "In der Antike schrieben Menschen erstmals mit einem echten Bleistift. Schon die alten ─gypter sollen flŘssiges Blei in hohle Schilfrohre gegossen haben. Damit hatten sie eine HŘlle am Schreibwerkzeug - sofern sie die Herstellung Řberstand. Auch die Griechen und R÷mer beschrieben spńter gern Pergament oder Papyrus mit dem weichen Metall. Schiebt man es Řber eine raue Unterlage, so rei\n"
     ]
    }
   ],
   "source": [
    "#f1 = codecs.open('Texte/Bleistift.txt','r','iso8859-1')\n",
    "f1 = codecs.open('Texte/Bleistift.txt','r','cp852')\n",
    "t1 = f1.read()\n",
    "f1.close()\n",
    "print(t1[:1000])\n"
   ]
  },
  {
   "cell_type": "code",
   "execution_count": 8,
   "metadata": {},
   "outputs": [
    {
     "name": "stdout",
     "output_type": "stream",
     "text": [
      "Befreit warmes Wasser besser von Keimen?\r\n",
      "\r\n",
      "Wer Triefnase, Husten und Kopfschmerzen entgehen will, sollte sich konsequent die Hände waschen. Warmes Wasser und Seife, empfehlen Experten. Aber ist warmes Wasser tatsächlich besser als kaltes? \r\n",
      "\r\n",
      "\r\n",
      "Der neurotische Physikprofessor Boris Yellnikoff singt zweimal laut \"Happy Birthday\", wenn er sich die Hände wäscht. Das vernichtet alle Keime, meint er. Im Prinzip hat der Kauz aus Woody Allens Film \"Whatever Works\" Recht: Denn zweimal \"Happy Birthday\" dauert etwa 30 Sekunden. Und so lange sollte man sich seine Hände mit Seife und warmen Wasser reinigen. Das verringere die Wahrscheinlichkeit einer Infektion, sagen Experten. Doch spielt die Wassertemperatur tatsächlich eine Rolle?\r\n",
      "\r\n",
      "\"Alles, was hilft, Partikel von der Hautoberfläche wegzuspülen, macht Sinn\", sagt Axel Kramer, Direktor des Instituts für Hygiene und Umweltmedizin an der Universität Greifswald. \"Und warmes Wasser ist ein besseres Lösungsmittel als kaltes.\"\r\n",
      "\r\n",
      "Dieses Prinzip kennt\n"
     ]
    }
   ],
   "source": [
    "f1 = codecs.open('Texte/Händewaschen.txt','r','cp850')\n",
    "#f1 = codecs.open('Texte/Händewaschen.txt','r','iso8859-1')\n",
    "t1 = f1.read()\n",
    "f1.close()\n",
    "print(t1[:1000])"
   ]
  },
  {
   "cell_type": "code",
   "execution_count": 7,
   "metadata": {},
   "outputs": [
    {
     "name": "stdout",
     "output_type": "stream",
     "text": [
      "Woher kennt eine Körperzelle ihre Funktion?\r\n",
      "\r\n",
      "Haut, Knochen, Gewebe, Organe: Unser Körper besteht aus Milliarden Zellen. Sie bekämpfen Viren, bewegen unsere Muskeln und lassen uns wachsen. Doch woher weiß eine Zelle, dass sie für den Haarwuchs zuständig ist und nicht für den Herzschlag? \r\n",
      "\r\n",
      "\r\n",
      "\r\n",
      "Der menschliche Körper besteht aus Milliarden von Zellen, alle tragen in ihrem Zellkern denselben Bauplan des gesamten Körpers. Trotzdem sind sie nicht alle gleich: Es gibt Herzzellen, Hautzellen, Nervenzellen und viele andere Spezialisten, die teilweise sehr unterschiedliche Aufgaben erfüllen müssen: Eine Herzzelle muss sich beispielsweise rhythmisch zusammenziehen können, ganz anders die Zelle einer Haarwurzel: Sie ist für die Bildung des Haars verantwortlich. Doch woher weiß eine Haarwurzelzelle, dass sie keine Herzzelle ist - und umgekehrt?\r\n",
      "\r\n",
      "Jede Zelle eines Körpers besitze zwar die gleiche DNA, auf der die Erbinformationen gespeichert sind, sagt Michael Kessel vom Max-Planck-Institut für\n"
     ]
    }
   ],
   "source": [
    "f1 = codecs.open('Texte/Körperzelle.txt','r','cp852')\n",
    "t1 = f1.read()\n",
    "f1.close()\n",
    "print(t1[:1000])"
   ]
  },
  {
   "cell_type": "code",
   "execution_count": 9,
   "metadata": {},
   "outputs": [
    {
     "name": "stdout",
     "output_type": "stream",
     "text": [
      "Hilft Nachtmilch wirklich beim Schlafen?\r\n",
      "\r\n",
      "3 Uhr morgens und noch immer kein Auge zugetan: Manche schwören auf Baldrian, Ruhe oder Alkoholverzicht, andere vertrauen auf sogenannte Nachtmilch, die bei Kühen im Dunkeln gemolken wurde. Nur was hilft wirklich bei Schlafstörungen? \r\n",
      "\r\n",
      "\r\n",
      "\r\n",
      "Man fühlt sich müde, muss dauernd gähnen - trotzdem ist an Schlaf nicht zu denken. Lauwarme Fußbäder oder Kamillentee mit Baldrian helfen meist nicht weiter. Schnelle Hilfe versprechen Hersteller sogenannter Nachtmilchkristalle. Diese werden aus Kuhmilch gewonnen, die erst nach Sonnenuntergang gemolken wurde. Die Nachtmilch enthält angeblich deutlich mehr vom natürlichen Schlafhormon Melatonin als normale Milch. Im Milchpulver aus Nachtmilchkristallen sei dieser Gehalt sogar bis zu hundertmal höher. Einfach in Milch oder Joghurt eingerührt, soll das Präparat für einen erholsamen Schlummer sorgen und bei Jetlag wirken. Aber stimmt das wirklich?\r\n",
      "\r\n",
      "\"Nein\", sagt Björn Lemmer vom Institut für Experimentelle u\n"
     ]
    }
   ],
   "source": [
    "f1 = codecs.open('Texte/Nachtmilch.txt','r','cp1252')\n",
    "t1 = f1.read()\n",
    "f1.close()\n",
    "print(t1[:1000])"
   ]
  },
  {
   "cell_type": "code",
   "execution_count": 10,
   "metadata": {},
   "outputs": [
    {
     "name": "stdout",
     "output_type": "stream",
     "text": [
      "Wo kommt das Seitenstechen her?\r\n",
      "\r\n",
      "Wie ärgerlich: Kurz vor der sportlichen Höchstleistung rauscht plötzlich ein Schmerz durch den Oberkörper das Seitenstechen. Doch wie entstehen die Schmerzen und wie kann man sie bekämpfen? \r\n",
      "\r\n",
      "\r\n",
      "\r\n",
      "Fast ist es geschafft: Die letzte Stadionrunde im Angriff, der Läufer fliegt dem Ziel entgegen. Der Puls dröhnt, der Atem rast und die Bestzeit lockt. Doch dann zuckt mit einem Mal der Schmerz in die Seite. Unterhalb der Rippen bohrt er sich tief in den Körper - das Seitenstechen. Doch woher kommt es? Und was kann dagegen tun?\r\n",
      "\r\n",
      "Der Schmerz kann mehrere Ursachen haben, eine wissenschaftlich eindeutige gibt es bis heute nicht. Klar ist, dass Seitenstechen immer bei starker körperlicher Belastung auftritt, beim Laufen, Schwimmen oder auch beim Radfahren. Klar ist auch, dass die Schmerzen meist bei untrainierten Personen auftreten.\r\n",
      "\r\n",
      "Erklärung Nummer eins gibt der Milz die Schuld. Die Milz liegt im linken Oberbauch und hat unter anderem die Aufgabe, Blut zu \n"
     ]
    }
   ],
   "source": [
    "f1 = codecs.open('Texte/Seitenstechen.txt','r','cp1250')\n",
    "t1 = f1.read()\n",
    "f1.close()\n",
    "print(t1[:1000])"
   ]
  },
  {
   "cell_type": "code",
   "execution_count": 13,
   "metadata": {},
   "outputs": [
    {
     "name": "stdout",
     "output_type": "stream",
     "text": [
      "Warum weinen wir?\r\n",
      "\r\n",
      "Wut, Stress, Angst, Trauer oder Staubkörner: Tränen fließen oft und aus unterschiedlichen Gründen. Wer weint, kann so Schmutz aus dem Auge schwemmen - aber hilft es auch, Stress abzubauen? \r\n",
      "\r\n",
      "\r\n",
      "\r\n",
      "Männer weinen zwar heimlich, wie Herbert Grönemeyer singt, aber sie weinen. Wenn auch deutlich seltener als Frauen: Bei ihnen rollen die Tränen bis zu 17 Mal im Jahr, bei Frauen bis zu 64 Mal, haben Augenärzte der Deutschen Ophthalmologischen Gesellschaft ermittelt. Meistens sind es intensive Gefühle, die die Tränen strömen lassen, deswegen sprechen Forscher auch von \"emotionalen Tränen\". Im Gegensatz zu jenen Tränen, die fließen, wenn ein Staubkorn ins Auge fliegt oder der Wind direkt auf die Augen bläst.\r\n",
      "\r\n",
      "Bei diesen nicht-emotionalen Tränen ist die Funktion klar: Sie spülen Fremdkörper aus und schützen das Auge vor Austrocknung. Aber was ist mit den Wut- oder Freudentränen? Welchen biologischen Sinn könnten sie haben? Eine Vermutung lautet: Beim emotionalen Weinen wer\n"
     ]
    }
   ],
   "source": [
    "f1 = codecs.open('Texte/Spechte.txt','r','iso8859-1')\n",
    "t1 = f1.read()\n",
    "f1.close()\n",
    "print(t1[:1000])"
   ]
  },
  {
   "cell_type": "code",
   "execution_count": 12,
   "metadata": {},
   "outputs": [
    {
     "name": "stdout",
     "output_type": "stream",
     "text": [
      "Wie sterben Sprachen?\r\n",
      "\r\n",
      "Sprache kann verbinden, trennen - und der Tod einer Sprache kann sogar traumatisieren. Derzeit gibt es etwa 6000 verschiedene Sprachen, ein Drittel davon ist bedroht. Aber warum sterben Sprachen aus? \r\n",
      "\r\n",
      "\r\n",
      "\r\n",
      "Glaubt man der Bibel, haben wir Gott unser Sprachenwirrwarr zu verdanken. Er soll einst die gemeinsame Sprache verwirrt und über die ganze Erde verstreut haben, nachdem die Menschen versuchten, den Turm Babel zu errichten.\r\n",
      "\r\n",
      "Fest steht, dass heute noch rund 6000 verschiedene Kommunikations-Codes auf der Erde existieren. Doch über 2200 Sprachen sind bereits im Weltatlas für bedrohte Sprachen der Unesco erfasst. 576 davon gelten sogar als akut gefährdet. Aber wieso sterben Sprachen überhaupt aus?\r\n",
      "\r\n",
      "Zum einen, weil diejenigen, die sie sprechen, verschwinden. \"Bei kleineren Sprachgemeinschaften können beispielsweise Katastrophen oder Völkermord dazu führen, dass alle Sprecher auf einmal sterben\", sagt René Schiering, Vorstandsmitglied der Gesellschaft für Bed\n"
     ]
    }
   ],
   "source": [
    "f1 = codecs.open('Texte/Sprachen.txt','r','iso8859-2')\n",
    "t1 = f1.read()\n",
    "f1.close()\n",
    "print(t1[:1000])"
   ]
  },
  {
   "cell_type": "code",
   "execution_count": 14,
   "metadata": {},
   "outputs": [
    {
     "name": "stdout",
     "output_type": "stream",
     "text": [
      "Macht Stress die Haare grau?\r\n",
      "\r\n",
      "Wenn die Tochter knutscht oder der Sohnemann nach Haschisch riecht, kriegen Eltern graue Haare. Behaupten sie zumindest. Aber liegt das wirklich an zu viel Stress und Sorgen, oder sind ganz andere Faktoren verantwortlich? \r\n",
      "\r\n",
      "Haare werden grau, wenn sich sogenannte Melanozyten zurückbilden. Diese Zellen produzieren das Pigment Melanin, das für die Färbung des Haares verantwortlich ist. Kann das wirklich durch Ärger oder Stress geschehen? \"Wissenschaftlich kann man einen solchen Zusammenhang nicht nachweisen\", sagt Danuta Sobczak, Fachärztin für Dermatologie in Freiburg.\r\n",
      "Graukopf: Zu viel Sonne? Stress? Eine Niete beim Gen-Lotto?\r\n",
      "\r\n",
      "Im Laufe eines Menschenlebens produzieren die Melanozyten weniger Melanin, dadurch können sich zunehmend graue Haare bilden. Ab welchem Alter und in welchem Umfang jemand graue Haare bekommt, ist hauptsächlich genetisch vorgegeben. Gute Gene hat anscheinend Altkanzler Gerhard Schröder immerhin steht inzwischen per Gerichtsbes\n"
     ]
    }
   ],
   "source": [
    "f1 = codecs.open('Texte/Stress.txt','r','utf8')\n",
    "t1 = f1.read()\n",
    "f1.close()\n",
    "print(t1[:1000])"
   ]
  },
  {
   "cell_type": "code",
   "execution_count": 15,
   "metadata": {},
   "outputs": [
    {
     "name": "stdout",
     "output_type": "stream",
     "text": [
      "Warum Vögel im Schlaf nicht umkippen\r\n",
      "\r\n",
      "Vögel schlafen gefährlich. In schwindelerregenden Höhen dösen sie auf Bäumen oder Zäunen seelenruhig vor sich hin und fallen dabei nie herunter. Wie machen sie das? \r\n",
      "\r\n",
      "Es kommt öfter vor, dass Menschen aus ihrem Bett fallen - und das von einer Matratze, die meist mehr als doppelt so breit ist wie sie selbst. Einem Vogel könnte das nicht passieren, obwohl ihm ihm ein Schlafplatz von nur wenigen Zentimetern reicht. Die meisten Vögel nächtigen nämlich auf Bäumen. Während seines Schlafes kippt der Piepmatz jedoch nie vom Ast.\r\n",
      "\r\n",
      "Das Federvieh tickt anders als der Mensch. Während wir uns anstrengen, die Hand zur Faust zu krümmen, schafft dies der Vogel von ganz allein. Umgekehrt muss er Muskelkraft aufwenden, um seine Krallen zu strecken. Grund ist ein Automatismus: Beim Vogel ist die Kralle stets gekrümmt.\r\n",
      "\r\n",
      "So auch nachts. Wenn sich der Mensch zum Schlafen bettet, entspannt sich seine Hand - die Finger sind gestreckt. Wenn es ihm der Vogel gleicht\n"
     ]
    }
   ],
   "source": [
    "f1 = codecs.open('Texte/Vögel.txt','r','iso8859-1')\n",
    "t1 = f1.read()\n",
    "f1.close()\n",
    "print(t1[:1000])"
   ]
  },
  {
   "cell_type": "code",
   "execution_count": 16,
   "metadata": {},
   "outputs": [
    {
     "name": "stdout",
     "output_type": "stream",
     "text": [
      "Warum weinen wir?\r\n",
      "\r\n",
      "Wut, Stress, Angst, Trauer oder Staubkörner: Tränen fließen oft und aus unterschiedlichen Gründen. Wer weint, kann so Schmutz aus dem Auge schwemmen - aber hilft es auch, Stress abzubauen? \r\n",
      "\r\n",
      "\r\n",
      "\r\n",
      "Männer weinen zwar heimlich, wie Herbert Grönemeyer singt, aber sie weinen. Wenn auch deutlich seltener als Frauen: Bei ihnen rollen die Tränen bis zu 17 Mal im Jahr, bei Frauen bis zu 64 Mal, haben Augenärzte der Deutschen Ophthalmologischen Gesellschaft ermittelt. Meistens sind es intensive Gefühle, die die Tränen strömen lassen, deswegen sprechen Forscher auch von \"emotionalen Tränen\". Im Gegensatz zu jenen Tränen, die fließen, wenn ein Staubkorn ins Auge fliegt oder der Wind direkt auf die Augen bläst.\r\n",
      "\r\n",
      "Bei diesen nicht-emotionalen Tränen ist die Funktion klar: Sie spülen Fremdkörper aus und schützen das Auge vor Austrocknung. Aber was ist mit den Wut- oder Freudentränen? Welchen biologischen Sinn könnten sie haben? Eine Vermutung lautet: Beim emotionalen Weinen wer\n"
     ]
    }
   ],
   "source": [
    "f1 = codecs.open('Texte/Weinen.txt','r','utf8')\n",
    "t1 = f1.read()\n",
    "f1.close()\n",
    "print(t1[:1000])"
   ]
  },
  {
   "cell_type": "code",
   "execution_count": null,
   "metadata": {},
   "outputs": [],
   "source": []
  }
 ],
 "metadata": {
  "kernelspec": {
   "display_name": "Python 3",
   "language": "python",
   "name": "python3"
  },
  "language_info": {
   "codemirror_mode": {
    "name": "ipython",
    "version": 3
   },
   "file_extension": ".py",
   "mimetype": "text/x-python",
   "name": "python",
   "nbconvert_exporter": "python",
   "pygments_lexer": "ipython3",
   "version": "3.7.4"
  }
 },
 "nbformat": 4,
 "nbformat_minor": 2
}
